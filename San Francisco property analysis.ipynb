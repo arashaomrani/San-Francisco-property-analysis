{
 "cells": [
  {
   "cell_type": "code",
   "execution_count": null,
   "metadata": {
    "collapsed": true
   },
   "outputs": [],
   "source": [
    "import numpy as np\n",
    "import pandas as pd"
   ]
  },
  {
   "cell_type": "code",
   "execution_count": null,
   "metadata": {
    "collapsed": false
   },
   "outputs": [],
   "source": [
    "df = pd.read_csv(\"Historic_Secured_Property_Tax_Rolls.csv\") "
   ]
  },
  {
   "cell_type": "code",
   "execution_count": null,
   "metadata": {
    "collapsed": true
   },
   "outputs": [],
   "source": [
    "df"
   ]
  },
  {
   "cell_type": "raw",
   "metadata": {},
   "source": [
    "# What fraction of assessments are for properties of the most common class? For now, consider all the assessments, even though some properties may be listed more than once."
   ]
  },
  {
   "cell_type": "code",
   "execution_count": null,
   "metadata": {
    "collapsed": false
   },
   "outputs": [],
   "source": [
    "Cl=df[\"Property Class Code\"]"
   ]
  },
  {
   "cell_type": "code",
   "execution_count": null,
   "metadata": {
    "collapsed": true
   },
   "outputs": [],
   "source": [
    "Cl"
   ]
  },
  {
   "cell_type": "code",
   "execution_count": null,
   "metadata": {
    "collapsed": false
   },
   "outputs": [],
   "source": [
    "from collections import Counter\n",
    "#import re\n",
    "S=Counter(Cl).most_common()\n",
    "n=np.array(S)\n",
    "Common=float(n[0,1])\n",
    "Common\n",
    "Sum=[]\n",
    "for i in range(0,len(n)):\n",
    "    f=float(n[i,1])\n",
    "    Sum.append(f)\n"
   ]
  },
  {
   "cell_type": "code",
   "execution_count": null,
   "metadata": {
    "collapsed": false
   },
   "outputs": [],
   "source": [
    "f=Common/sum(Sum)\n",
    "f"
   ]
  },
  {
   "cell_type": "code",
   "execution_count": null,
   "metadata": {
    "collapsed": false
   },
   "outputs": [],
   "source": [
    "Im=df[['Closed Roll Fiscal Year','Block and Lot Number','Closed Roll Assessed Improvement Value']]\n",
    "Im_np=np.array(Im)\n",
    "Im_np"
   ]
  },
  {
   "cell_type": "markdown",
   "metadata": {
    "collapsed": false,
    "scrolled": true
   },
   "source": [
    "I=np.where(Im_np[:,2] != 0)[0]\n",
    "Im_np_nz=Im_np[I,0:3]\n",
    "M = np.zeros(shape=(len(Im_np_nz),2))\n",
    "N = np.empty(shape=(len(Im_np_nz),1), dtype=str)\n",
    "for i in range(0, len(Im_np_nz)):\n",
    "    if np.any(Im_np_nz[i,1]==N[:,0]) and Im_np_nz[i,0]<Im_np_nz[np.where(N[:,0]==Im_np_nz[i,1]),0]:\n",
    "        M[i,:]=Im_np_nz[i,[0,2]]\n",
    "        N[i,0]=Im_np_nz[i,1]\n",
    "    elif np.any(Im_np_nz[i,2]!=N[:,0]):\n",
    "        M[i,:]=Im_np_nz[i,[0,2]]\n",
    "        N[i,0]=Im_np_nz[i,1]\n"
   ]
  },
  {
   "cell_type": "markdown",
   "metadata": {
    "collapsed": false
   },
   "source": [
    "I=np.where(Im_np[:,2] != 0)[0]\n",
    "Im_np_nz=Im_np[I,0:3]\n",
    "M = np.zeros(shape=(len(Im_np_nz),2))\n",
    "N = np.empty(shape=(len(Im_np_nz),1), dtype=str)\n",
    "for i in range(0, 100):\n",
    "    M[i,:]=Im_np_nz[i,[0,2]]\n",
    "    N[i,0]=Im_np_nz[i,1]"
   ]
  },
  {
   "cell_type": "markdown",
   "metadata": {},
   "source": []
  },
  {
   "cell_type": "markdown",
   "metadata": {},
   "source": [
    "What is the median assessed improvement value, considering only non-zero assessments? Consider only the latest assessment value for each property, which is uniquely identified by the \"Block and Lot Number\" column."
   ]
  },
  {
   "cell_type": "code",
   "execution_count": null,
   "metadata": {
    "collapsed": false
   },
   "outputs": [],
   "source": [
    "#I=np.where(Im_np[:,2] != 0)[0]\n",
    "#Im_np_nz=Im_np[I,0:3]\n",
    "Im_np_nz=Im_np[Im_np[:,0]!=0,0:3]\n",
    "Im_np_nz=Im_np[Im_np[:,1]!=0,0:3]\n",
    "Im_np_nz=Im_np[Im_np[:,2]!=0,0:3]\n",
    "Recent=Im_np_nz[Im_np_nz[:,0]==2014,2]\n",
    "np.median(Recent)"
   ]
  },
  {
   "cell_type": "markdown",
   "metadata": {
    "collapsed": false
   },
   "source": [
    "#S=Counter(Im_nz['Block and Lot Number'])\n",
    "S=Counter(Im['Block and Lot Number']).most_common()\n",
    "s=np.array(S)\n",
    "Im_np.shape\n",
    "I=np.empty\n",
    "for i in range(0, 2):\n",
    "    for j in range(0, 1000):\n",
    "        if Im_np[i,1]==s[j,0]:\n",
    "            I[i,:]=Im_np[i,:]\n",
    "            print(i,j)"
   ]
  },
  {
   "cell_type": "code",
   "execution_count": null,
   "metadata": {
    "collapsed": true
   },
   "outputs": [],
   "source": [
    "Im2=df[['Closed Roll Fiscal Year','Neighborhood Code','Closed Roll Assessed Improvement Value']]"
   ]
  },
  {
   "cell_type": "code",
   "execution_count": null,
   "metadata": {
    "collapsed": false
   },
   "outputs": [],
   "source": [
    "Im2_np=np.array(Im2)\n",
    "I2=np.where(Im2_np[:,2] != 0)[0]\n",
    "Im2_np_nz=Im2_np[I,0:3]\n",
    "Recent2=Im2_np_nz[Im2_np_nz[:,0]==2014,:]"
   ]
  },
  {
   "cell_type": "code",
   "execution_count": null,
   "metadata": {
    "collapsed": false
   },
   "outputs": [],
   "source": [
    "S1=Counter(Recent2[:,1]).most_common()\n",
    "n1=np.array(S1)\n",
    "n1=n1[n1[:,0]!='nan',:]\n",
    "A = np.zeros(shape=(len(n1),1))\n",
    "for i in range(0, len(n1)):\n",
    "    A[i]=np.mean(Recent2[Recent2[:,1]==n1[i,0],2])"
   ]
  },
  {
   "cell_type": "code",
   "execution_count": null,
   "metadata": {
    "collapsed": false
   },
   "outputs": [],
   "source": [
    "max(A)-min(A)\n"
   ]
  },
  {
   "cell_type": "code",
   "execution_count": null,
   "metadata": {
    "collapsed": true
   },
   "outputs": [],
   "source": [
    "Im3=df[['Closed Roll Fiscal Year','Closed Roll Assessed Land Value']]\n"
   ]
  },
  {
   "cell_type": "code",
   "execution_count": null,
   "metadata": {
    "collapsed": false
   },
   "outputs": [],
   "source": [
    "Im3_np=np.array(Im3)\n",
    "Im3_np_nz=Im3_np[Im3_np[:,1]!=0,0:2]\n",
    "P0=min(Im3_np_nz[:,1])\n",
    "#y=Im3_np_nz[1:1000000,1]/P0\n",
    "x=Im3_np_nz[:,0]\n",
    "Im3_np_nz=Im3_np_nz[np.isnan(Im3_np_nz[:,0])==False,0:2]\n",
    "Im3_np_nz=Im3_np_nz[np.isnan(Im3_np_nz[:,1])==False,0:2]\n",
    "x=Im3_np_nz[:,0]\n",
    "X = x[:, np.newaxis]\n",
    "y=np.log10(Im3_np_nz[:,1])"
   ]
  },
  {
   "cell_type": "code",
   "execution_count": null,
   "metadata": {
    "collapsed": false
   },
   "outputs": [],
   "source": [
    "from sklearn.linear_model import LinearRegression"
   ]
  },
  {
   "cell_type": "code",
   "execution_count": null,
   "metadata": {
    "collapsed": false
   },
   "outputs": [],
   "source": [
    "model = LinearRegression(normalize=True, fit_intercept=False)\n",
    "model.fit(X, y)"
   ]
  },
  {
   "cell_type": "code",
   "execution_count": null,
   "metadata": {
    "collapsed": false
   },
   "outputs": [],
   "source": [
    "print(model.coef_)\n",
    "print(model.intercept_)"
   ]
  },
  {
   "cell_type": "markdown",
   "metadata": {},
   "source": [
    "Considering only properties with non-zero numbers of bedrooms and units, calculate the average number of bedrooms per unit in each zip code. Use the ratio of the means instead of the mean of the ratio. What is this ratio in the zip code where it achieves its maximum?"
   ]
  },
  {
   "cell_type": "code",
   "execution_count": null,
   "metadata": {
    "collapsed": true
   },
   "outputs": [],
   "source": [
    "Im4=df[['Number of Units','Number of Bedrooms','Zipcode of Parcel', 'Property Area in Square Feet','Lot Area']]\n",
    "Im4"
   ]
  },
  {
   "cell_type": "code",
   "execution_count": null,
   "metadata": {
    "collapsed": false
   },
   "outputs": [],
   "source": [
    "Im4_np=np.array(Im4)\n",
    "Im4_np_nz=Im4_np[Im4_np[:,1]!=0, 0:3]\n",
    "Im4_np_nz=Im4_np_nz[Im4_np_nz[:,0]!=0, 0:3]\n",
    "Im4_np_nz=Im4_np_nz[np.isnan(Im4_np_nz[:,0])==False,0:3]\n",
    "Im4_np_nz=Im4_np_nz[np.isnan(Im4_np_nz[:,1])==False,0:3]\n",
    "Im4_np_nz=Im4_np_nz[np.isnan(Im4_np_nz[:,2])==False,0:3]\n"
   ]
  },
  {
   "cell_type": "code",
   "execution_count": null,
   "metadata": {
    "collapsed": false
   },
   "outputs": [],
   "source": [
    "from collections import Counter\n",
    "S=np.array(Counter(Im4_np_nz[:,2]).most_common())\n",
    "m1=np.zeros(shape=(len(S),1))\n",
    "for i in range(0,len(S)):\n",
    "    m1[i]=(np.mean(Im4_np_nz[Im4_np_nz[:,2]==S[i,0],1]))/(np.mean(Im4_np_nz[Im4_np_nz[:,2]==S[i,0],0]))\n"
   ]
  },
  {
   "cell_type": "code",
   "execution_count": null,
   "metadata": {
    "collapsed": false
   },
   "outputs": [],
   "source": [
    "max(m1)"
   ]
  },
  {
   "cell_type": "markdown",
   "metadata": {},
   "source": [
    "Estimate how built-up each zip code is by comparing the total property area to the total lot area. What is the largest ratio of property area to surface area of all zip codes?"
   ]
  },
  {
   "cell_type": "code",
   "execution_count": null,
   "metadata": {
    "collapsed": false
   },
   "outputs": [],
   "source": [
    "Im4_np_nz=Im4_np[Im4_np[:,2]!=0, 0:5]\n",
    "Im4_np_nz=Im4_np_nz[Im4_np_nz[:,4]!=0, 0:5]\n",
    "Im4_np_nz=Im4_np_nz[Im4_np_nz[:,3]!=0, 0:5]\n",
    "Im4_np_nz=Im4_np_nz[np.isnan(Im4_np_nz[:,2])==False,0:5]\n",
    "Im4_np_nz=Im4_np_nz[np.isnan(Im4_np_nz[:,3])==False,0:5]\n",
    "Im4_np_nz=Im4_np_nz[np.isnan(Im4_np_nz[:,4])==False,0:5]\n",
    "m1=np.zeros(shape=(len(S),1))\n",
    "for i in range(0,len(S)):\n",
    "    m1[i]=max((Im4_np_nz[Im4_np_nz[:,2]==S[i,0],3])/(Im4_np_nz[Im4_np_nz[:,2]==S[i,0],4]))\n",
    "\n"
   ]
  },
  {
   "cell_type": "code",
   "execution_count": null,
   "metadata": {
    "collapsed": false
   },
   "outputs": [],
   "source": [
    "max(m1)"
   ]
  },
  {
   "cell_type": "markdown",
   "metadata": {
    "collapsed": true
   },
   "source": [
    "We can use the property locations to estimate the areas of the neighborhoods. Represent each as an ellipse with semi-axes given by a single standard deviation of the longitude and latitude. What is the area, in square kilometers, of the largest neighborhood measured in this manner? Be sure to filter out invalid coordinates."
   ]
  },
  {
   "cell_type": "code",
   "execution_count": null,
   "metadata": {
    "collapsed": false
   },
   "outputs": [],
   "source": [
    "Im4=df[['Neighborhood Code','Property Area in Square Feet']]\n",
    "Im4_np=np.array(Im4)\n",
    "Im4_np_nz=Im4_np[Im4_np[:,1]!=0, 0:3]\n",
    "Im4_np_nz=Im4_np_nz[Im4_np_nz[:,0]!=0, 0:3]\n",
    "\n"
   ]
  },
  {
   "cell_type": "code",
   "execution_count": null,
   "metadata": {
    "collapsed": false
   },
   "outputs": [],
   "source": [
    "from collections import Counter\n",
    "S=np.array(Counter(Im4_np_nz[:,0]).most_common())\n",
    "m1=np.zeros(shape=(len(S),1))\n",
    "for i in range(0,len(S)):\n",
    "    m1[i]=(np.sum(Im4_np_nz[Im4_np_nz[:,0]==S[i,0],1]))*9.2903e-8\n",
    "\n",
    "max(m1)"
   ]
  },
  {
   "cell_type": "markdown",
   "metadata": {},
   "source": [
    "What is the difference between the average number of units in buildings build in or after 1950, and that for buildings built before 1950? Consider only buildings that have non-zero units reported, and ignore buildings with obviously incorrect years. To try to avoid the effect of improvements to buildings, use the earliest record for each property, not the latest."
   ]
  },
  {
   "cell_type": "code",
   "execution_count": null,
   "metadata": {
    "collapsed": false
   },
   "outputs": [],
   "source": [
    "Im4=df[['Year Property Built','Number of Units']]\n",
    "Im4_np=np.array(Im4)\n",
    "Im4_np_nz=Im4_np[Im4_np[:,1]!=0, 0:3]\n",
    "Im4_np_nz=Im4_np_nz[Im4_np_nz[:,0]!=0, 0:3]\n",
    "Im4_np_nz=Im4_np_nz[np.isnan(Im4_np_nz[:,0])==False,0:2]\n",
    "Im4_np_nz=Im4_np_nz[Im4_np_nz[:,0]>1500, 0:3]"
   ]
  },
  {
   "cell_type": "code",
   "execution_count": null,
   "metadata": {
    "collapsed": false
   },
   "outputs": [],
   "source": [
    "Before=Im4_np_nz[Im4_np_nz[:,0]<1950, 1]\n",
    "After=Im4_np_nz[Im4_np_nz[:,0]>=1950, 1]"
   ]
  },
  {
   "cell_type": "code",
   "execution_count": null,
   "metadata": {
    "collapsed": false,
    "scrolled": true
   },
   "outputs": [],
   "source": [
    "np.mean(After)-np.mean(Before)"
   ]
  },
  {
   "cell_type": "code",
   "execution_count": null,
   "metadata": {
    "collapsed": true
   },
   "outputs": [],
   "source": []
  }
 ],
 "metadata": {
  "anaconda-cloud": {},
  "kernelspec": {
   "display_name": "Python [Root]",
   "language": "python",
   "name": "Python [Root]"
  },
  "language_info": {
   "codemirror_mode": {
    "name": "ipython",
    "version": 3
   },
   "file_extension": ".py",
   "mimetype": "text/x-python",
   "name": "python",
   "nbconvert_exporter": "python",
   "pygments_lexer": "ipython3",
   "version": "3.5.1"
  }
 },
 "nbformat": 4,
 "nbformat_minor": 0
}
